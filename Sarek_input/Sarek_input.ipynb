{
 "cells": [
  {
   "cell_type": "markdown",
   "metadata": {},
   "source": [
    "# Generating input file for Sarek pipeline\n",
    "\n",
    "## Input requirements\n",
    "* Needs a .txt file with filenames of all fastq files to order in folders\n",
    "* Needs path to folder with all fastq files\n",
    "* Needs a .tsv file with the table extracted from OpenBIS with all samples of the project\n",
    "* Needs a .tsv file with the table extracted from OpenBIS with all experiments of the project\n",
    "* Needs specification of tumor identifier: case insensitive Tumor\n",
    "* Needs specification of VC name: default Test_sample_Code\n",
    "* Needs specification of what to look in filename: default secondary name\n",
    "* Needs specification of subproject: e.g. QUK17\n",
    "* Provide filename for tree (default tree.txt)\n"
   ]
  },
  {
   "cell_type": "code",
   "execution_count": 113,
   "metadata": {},
   "outputs": [],
   "source": [
    "import pandas as pd\n",
    "import re\n",
    "import subprocess\n",
    "import sys"
   ]
  },
  {
   "cell_type": "code",
   "execution_count": 2,
   "metadata": {},
   "outputs": [],
   "source": [
    "subproject = 'QUK17'\n",
    "# Pattern for finding QBiC codes\n",
    "p = re.compile(subproject+'[A-Z0-9]{4}[A-Z0-9-_]{0,6}')"
   ]
  },
  {
   "cell_type": "code",
   "execution_count": 3,
   "metadata": {},
   "outputs": [],
   "source": [
    "exp_file = './entity-browser-grid-experiments-example.tsv'\n",
    "sample_file = './entity-browser-grid-sample-(all)-example.tsv'\n"
   ]
  },
  {
   "cell_type": "markdown",
   "metadata": {},
   "source": [
    "## Generating and merging sample subtables"
   ]
  },
  {
   "cell_type": "code",
   "execution_count": 4,
   "metadata": {},
   "outputs": [],
   "source": [
    "expdf = pd.read_csv(exp_file, sep='\\t')"
   ]
  },
  {
   "cell_type": "code",
   "execution_count": 5,
   "metadata": {},
   "outputs": [],
   "source": [
    "sampledf = pd.read_csv(sample_file, sep='\\t')"
   ]
  },
  {
   "cell_type": "code",
   "execution_count": null,
   "metadata": {},
   "outputs": [],
   "source": [
    "sampledf = sampledf[sampledf.loc[:,'Project']==subproject]"
   ]
  },
  {
   "cell_type": "code",
   "execution_count": 6,
   "metadata": {},
   "outputs": [
    {
     "name": "stdout",
     "output_type": "stream",
     "text": [
      "These samples do not have parents\n",
      "['NGSQUK17530BG', 'NGSQUK17537B4']\n"
     ]
    },
    {
     "name": "stderr",
     "output_type": "stream",
     "text": [
      "/Users/gisela/anaconda2/lib/python2.7/site-packages/pandas/core/indexing.py:362: SettingWithCopyWarning: \n",
      "A value is trying to be set on a copy of a slice from a DataFrame.\n",
      "Try using .loc[row_indexer,col_indexer] = value instead\n",
      "\n",
      "See the caveats in the documentation: http://pandas.pydata.org/pandas-docs/stable/indexing.html#indexing-view-versus-copy\n",
      "  self.obj[key] = _infer_fill_value(value)\n",
      "/Users/gisela/anaconda2/lib/python2.7/site-packages/pandas/core/indexing.py:543: SettingWithCopyWarning: \n",
      "A value is trying to be set on a copy of a slice from a DataFrame.\n",
      "Try using .loc[row_indexer,col_indexer] = value instead\n",
      "\n",
      "See the caveats in the documentation: http://pandas.pydata.org/pandas-docs/stable/indexing.html#indexing-view-versus-copy\n",
      "  self.obj[item] = s\n"
     ]
    }
   ],
   "source": [
    "NGS_df = sampledf[sampledf.loc[:,'Sample Type']=='Q_NGS_SINGLE_SAMPLE_RUN']\n",
    "NGS_df.columns = [\"NGS_sample_\"+i for i in NGS_df.columns]\n",
    "NGS_df.loc[:,'NGS_sample_Parents_code'] = [p.search(str(row)).group(0) if p.search(str(row)) else '' for row in NGS_df.loc[:,'NGS_sample_Parents']]\n",
    "if NGS_df[NGS_df.loc[:,'NGS_sample_Parents_code']==''].shape[0] > 0 :\n",
    "    print \"These samples do not have parents\"\n",
    "    print NGS_df[NGS_df.loc[:,'NGS_sample_Parents_code']==''].loc[:,'NGS_sample_Code'].tolist()"
   ]
  },
  {
   "cell_type": "code",
   "execution_count": 7,
   "metadata": {},
   "outputs": [],
   "source": [
    "Test_df = sampledf[sampledf['Sample Type']=='Q_TEST_SAMPLE']\n",
    "Test_df.columns = [\"Test_sample_\"+i for i in Test_df.columns]\n",
    "Test_df.loc[:,'Test_sample_Parents_code'] = [p.search(str(row)).group(0) if p.search(str(row)) else '' for row in Test_df.loc[:,'Test_sample_Parents']]\n",
    "Test_df.head()\n",
    "if Test_df[Test_df['Test_sample_Parents_code']==''].shape[0] > 0 :\n",
    "    print \"These samples do not have parents\"\n",
    "    print Test_df[Test_df['Test_sample_Parents_code']=='']\n"
   ]
  },
  {
   "cell_type": "code",
   "execution_count": 8,
   "metadata": {},
   "outputs": [],
   "source": [
    "Biol_df = sampledf[sampledf['Sample Type']=='Q_BIOLOGICAL_SAMPLE']\n",
    "Biol_df.columns = [\"Biol_sample_\"+i for i in Biol_df.columns]\n",
    "Biol_df.loc[:,'Biol_sample_Parents_code'] = [p.search(str(row)).group(0) if p.search(str(row)) else '' for row in Biol_df.loc[:,'Biol_sample_Parents']]\n",
    "Biol_df.head()\n",
    "if Biol_df[Biol_df['Biol_sample_Parents_code']==''].shape[0] > 0 :\n",
    "    print \"These samples do not have parents\"\n",
    "    print Biol_df[Biol_df['Biol_sample_Parents_code']=='']\n"
   ]
  },
  {
   "cell_type": "code",
   "execution_count": 9,
   "metadata": {},
   "outputs": [],
   "source": [
    "Exp_df =expdf[expdf['Experiment Type']=='Q_NGS_MEASUREMENT']\n",
    "Exp_df.columns = [\"Exp_\"+i for i in Exp_df.columns]"
   ]
  },
  {
   "cell_type": "code",
   "execution_count": 10,
   "metadata": {},
   "outputs": [],
   "source": [
    "NGS_exp_df = NGS_df.merge(Exp_df, how='left', left_on='NGS_sample_Experiment', right_on='Exp_Code', suffixes=('',''))"
   ]
  },
  {
   "cell_type": "code",
   "execution_count": 11,
   "metadata": {},
   "outputs": [],
   "source": [
    "NGS_exp_test_df = NGS_exp_df.merge(Test_df, how='left', left_on='NGS_sample_Parents_code', right_on='Test_sample_Code', suffixes=('',''))"
   ]
  },
  {
   "cell_type": "code",
   "execution_count": 12,
   "metadata": {},
   "outputs": [],
   "source": [
    "NGS_exp_test_biol_df = NGS_exp_test_df.merge(Biol_df, how='left', left_on='Test_sample_Parents_code', right_on='Biol_sample_Code',suffixes=('',''))"
   ]
  },
  {
   "cell_type": "code",
   "execution_count": 13,
   "metadata": {},
   "outputs": [],
   "source": [
    "Biol_entity_df = pd.DataFrame({'BS_code' : Biol_df['Biol_sample_Code'], 'Entity' : Biol_df['Biol_sample_Parents_code']})"
   ]
  },
  {
   "cell_type": "code",
   "execution_count": 14,
   "metadata": {},
   "outputs": [],
   "source": [
    "# Sometimes biological samples have as parents another biological sample. Solve this by searching their parents\n",
    "NGS_exp_test_biol_entity_df = NGS_exp_test_biol_df.merge(Biol_entity_df, how='left', left_on='Biol_sample_Parents_code',right_on='BS_code',suffixes=('',''))\n",
    "NGS_exp_test_biol_entity_df.head()\n",
    "NGS_exp_test_biol_entity_df.loc[:,'Entity'] = [NGS_exp_test_biol_entity_df.loc[i,'Biol_sample_Parents_code'] if pd.isna(row) else NGS_exp_test_biol_entity_df.loc[i,'Entity'] for (i,row) in enumerate(NGS_exp_test_biol_entity_df.loc[:,'Entity'])]\n"
   ]
  },
  {
   "cell_type": "code",
   "execution_count": 15,
   "metadata": {},
   "outputs": [
    {
     "name": "stdout",
     "output_type": "stream",
     "text": [
      "Created merged data frame. Rows: 133 , Cols: 54\n",
      "Eliminated empty columns. Rows: 133 , Cols: 26\n",
      "Eliminated rows with no tissue annotation. Rows: 131 Cols: 26\n"
     ]
    }
   ],
   "source": [
    "# Renaming merged dataframe\n",
    "Data_df = NGS_exp_test_biol_entity_df\n",
    "print 'Created merged data frame. Rows:', Data_df.shape[0], ', Cols:', Data_df.shape[1]\n",
    "\n",
    "# Dropping columns where all values are NaN\n",
    "Data_df= Data_df.dropna(axis=1, how='all')\n",
    "print 'Eliminated empty columns. Rows:', Data_df.shape[0], ', Cols:', Data_df.shape[1]\n",
    "\n",
    "# Dropping rows where tissue is NaN (can't determine if tumor or not)\n",
    "Data_df = Data_df.dropna(axis=0, how='any', subset=['Biol_sample_Primary tissue/body fluid'])\n",
    "print 'Eliminated rows with no tissue annotation. Rows:', Data_df.shape[0], 'Cols:', Data_df.shape[1]"
   ]
  },
  {
   "cell_type": "markdown",
   "metadata": {},
   "source": [
    "## Selecting data for variant calling"
   ]
  },
  {
   "cell_type": "code",
   "execution_count": 103,
   "metadata": {},
   "outputs": [
    {
     "name": "stdout",
     "output_type": "stream",
     "text": [
      "Added boolean tumor annotation. Rows: 131 Cols: 29\n",
      "Selected only DNA samples. Rows: 130 Cols: 29\n"
     ]
    },
    {
     "data": {
      "text/html": [
       "<div>\n",
       "<style scoped>\n",
       "    .dataframe tbody tr th:only-of-type {\n",
       "        vertical-align: middle;\n",
       "    }\n",
       "\n",
       "    .dataframe tbody tr th {\n",
       "        vertical-align: top;\n",
       "    }\n",
       "\n",
       "    .dataframe thead th {\n",
       "        text-align: right;\n",
       "    }\n",
       "</style>\n",
       "<table border=\"1\" class=\"dataframe\">\n",
       "  <thead>\n",
       "    <tr style=\"text-align: right;\">\n",
       "      <th></th>\n",
       "      <th>NGS_sample_Code</th>\n",
       "      <th>NGS_sample_Sample Type</th>\n",
       "      <th>NGS_sample_Experiment</th>\n",
       "      <th>NGS_sample_Project</th>\n",
       "      <th>NGS_sample_Parents</th>\n",
       "      <th>NGS_sample_Parents_code</th>\n",
       "      <th>Exp_Code</th>\n",
       "      <th>Exp_Experiment Type</th>\n",
       "      <th>Exp_Project</th>\n",
       "      <th>Exp_Sequencer device</th>\n",
       "      <th>...</th>\n",
       "      <th>Biol_sample_Experiment</th>\n",
       "      <th>Biol_sample_Project</th>\n",
       "      <th>Biol_sample_Parents</th>\n",
       "      <th>Biol_sample_Primary tissue/body fluid</th>\n",
       "      <th>Biol_sample_Parents_code</th>\n",
       "      <th>Entity</th>\n",
       "      <th>IsTumor</th>\n",
       "      <th>Status</th>\n",
       "      <th>VC_name</th>\n",
       "      <th>VCpath</th>\n",
       "    </tr>\n",
       "  </thead>\n",
       "  <tbody>\n",
       "    <tr>\n",
       "      <th>0</th>\n",
       "      <td>NGSQUK17013BU</td>\n",
       "      <td>Q_NGS_SINGLE_SAMPLE_RUN</td>\n",
       "      <td>QUK17E202</td>\n",
       "      <td>QUK17</td>\n",
       "      <td>/UKT_DIAGNOSTICS/QUK17013BU</td>\n",
       "      <td>QUK17013BU</td>\n",
       "      <td>QUK17E202</td>\n",
       "      <td>Q_NGS_MEASUREMENT</td>\n",
       "      <td>QUK17</td>\n",
       "      <td>Illumina HiSeq 2500 at unspecified lab [UNSPEC...</td>\n",
       "      <td>...</td>\n",
       "      <td>QUK17E2</td>\n",
       "      <td>QUK17</td>\n",
       "      <td>/UKT_DIAGNOSTICS/QUK17ENTITY-192</td>\n",
       "      <td>Unspecified Tumor Tissue [TUMOR_TISSUE_UNSPECI...</td>\n",
       "      <td>QUK17ENTITY-192</td>\n",
       "      <td>QUK17ENTITY-192</td>\n",
       "      <td>1</td>\n",
       "      <td>Tumor</td>\n",
       "      <td>QUK17013BU</td>\n",
       "      <td>QUK17ENTITY-192/QUK17807AQ/Tumor/QUK17013BU/</td>\n",
       "    </tr>\n",
       "    <tr>\n",
       "      <th>1</th>\n",
       "      <td>NGSQUK17055AV</td>\n",
       "      <td>Q_NGS_SINGLE_SAMPLE_RUN</td>\n",
       "      <td>QUK17E33</td>\n",
       "      <td>QUK17</td>\n",
       "      <td>/UKT_DIAGNOSTICS/QUK17055AV</td>\n",
       "      <td>QUK17055AV</td>\n",
       "      <td>QUK17E33</td>\n",
       "      <td>Q_NGS_MEASUREMENT</td>\n",
       "      <td>QUK17</td>\n",
       "      <td>Illumina HiSeq 2500 at unspecified lab [UNSPEC...</td>\n",
       "      <td>...</td>\n",
       "      <td>QUK17E2</td>\n",
       "      <td>QUK17</td>\n",
       "      <td>/UKT_DIAGNOSTICS/QUK17ENTITY-13</td>\n",
       "      <td>PBMC [PBMC]</td>\n",
       "      <td>QUK17ENTITY-13</td>\n",
       "      <td>QUK17ENTITY-13</td>\n",
       "      <td>0</td>\n",
       "      <td>Normal</td>\n",
       "      <td>QUK17055AV</td>\n",
       "      <td>QUK17ENTITY-13/QUK17053AF/Normal/QUK17055AV/</td>\n",
       "    </tr>\n",
       "    <tr>\n",
       "      <th>2</th>\n",
       "      <td>NGSQUK17056A5</td>\n",
       "      <td>Q_NGS_SINGLE_SAMPLE_RUN</td>\n",
       "      <td>QUK17E32</td>\n",
       "      <td>QUK17</td>\n",
       "      <td>/UKT_DIAGNOSTICS/QUK17056A5</td>\n",
       "      <td>QUK17056A5</td>\n",
       "      <td>QUK17E32</td>\n",
       "      <td>Q_NGS_MEASUREMENT</td>\n",
       "      <td>QUK17</td>\n",
       "      <td>Illumina HiSeq 2500 at unspecified lab [UNSPEC...</td>\n",
       "      <td>...</td>\n",
       "      <td>QUK17E2</td>\n",
       "      <td>QUK17</td>\n",
       "      <td>/UKT_DIAGNOSTICS/QUK17ENTITY-13</td>\n",
       "      <td>Unspecified Tumor Tissue [TUMOR_TISSUE_UNSPECI...</td>\n",
       "      <td>QUK17ENTITY-13</td>\n",
       "      <td>QUK17ENTITY-13</td>\n",
       "      <td>1</td>\n",
       "      <td>Tumor</td>\n",
       "      <td>QUK17056A5</td>\n",
       "      <td>QUK17ENTITY-13/QUK17054AN/Tumor/QUK17056A5/</td>\n",
       "    </tr>\n",
       "    <tr>\n",
       "      <th>3</th>\n",
       "      <td>NGSQUK17075AB</td>\n",
       "      <td>Q_NGS_SINGLE_SAMPLE_RUN</td>\n",
       "      <td>QUK17E36</td>\n",
       "      <td>QUK17</td>\n",
       "      <td>/UKT_DIAGNOSTICS/QUK17075AB</td>\n",
       "      <td>QUK17075AB</td>\n",
       "      <td>QUK17E36</td>\n",
       "      <td>Q_NGS_MEASUREMENT</td>\n",
       "      <td>QUK17</td>\n",
       "      <td>Illumina HiSeq 2500 at unspecified lab [UNSPEC...</td>\n",
       "      <td>...</td>\n",
       "      <td>QUK17E2</td>\n",
       "      <td>QUK17</td>\n",
       "      <td>/UKT_DIAGNOSTICS/QUK17ENTITY-20</td>\n",
       "      <td>PBMC [PBMC]</td>\n",
       "      <td>QUK17ENTITY-20</td>\n",
       "      <td>QUK17ENTITY-20</td>\n",
       "      <td>0</td>\n",
       "      <td>Normal</td>\n",
       "      <td>QUK17075AB</td>\n",
       "      <td>QUK17ENTITY-20/QUK17073AT/Normal/QUK17075AB/</td>\n",
       "    </tr>\n",
       "    <tr>\n",
       "      <th>4</th>\n",
       "      <td>NGSQUK17076AJ</td>\n",
       "      <td>Q_NGS_SINGLE_SAMPLE_RUN</td>\n",
       "      <td>QUK17E35</td>\n",
       "      <td>QUK17</td>\n",
       "      <td>/UKT_DIAGNOSTICS/QUK17076AJ</td>\n",
       "      <td>QUK17076AJ</td>\n",
       "      <td>QUK17E35</td>\n",
       "      <td>Q_NGS_MEASUREMENT</td>\n",
       "      <td>QUK17</td>\n",
       "      <td>Illumina HiSeq 2500 at unspecified lab [UNSPEC...</td>\n",
       "      <td>...</td>\n",
       "      <td>QUK17E2</td>\n",
       "      <td>QUK17</td>\n",
       "      <td>/UKT_DIAGNOSTICS/QUK17ENTITY-20</td>\n",
       "      <td>Unspecified Tumor Tissue [TUMOR_TISSUE_UNSPECI...</td>\n",
       "      <td>QUK17ENTITY-20</td>\n",
       "      <td>QUK17ENTITY-20</td>\n",
       "      <td>1</td>\n",
       "      <td>Tumor</td>\n",
       "      <td>QUK17076AJ</td>\n",
       "      <td>QUK17ENTITY-20/QUK17074A3/Tumor/QUK17076AJ/</td>\n",
       "    </tr>\n",
       "  </tbody>\n",
       "</table>\n",
       "<p>5 rows × 30 columns</p>\n",
       "</div>"
      ],
      "text/plain": [
       "  NGS_sample_Code   NGS_sample_Sample Type NGS_sample_Experiment  \\\n",
       "0   NGSQUK17013BU  Q_NGS_SINGLE_SAMPLE_RUN             QUK17E202   \n",
       "1   NGSQUK17055AV  Q_NGS_SINGLE_SAMPLE_RUN              QUK17E33   \n",
       "2   NGSQUK17056A5  Q_NGS_SINGLE_SAMPLE_RUN              QUK17E32   \n",
       "3   NGSQUK17075AB  Q_NGS_SINGLE_SAMPLE_RUN              QUK17E36   \n",
       "4   NGSQUK17076AJ  Q_NGS_SINGLE_SAMPLE_RUN              QUK17E35   \n",
       "\n",
       "  NGS_sample_Project           NGS_sample_Parents NGS_sample_Parents_code  \\\n",
       "0              QUK17  /UKT_DIAGNOSTICS/QUK17013BU              QUK17013BU   \n",
       "1              QUK17  /UKT_DIAGNOSTICS/QUK17055AV              QUK17055AV   \n",
       "2              QUK17  /UKT_DIAGNOSTICS/QUK17056A5              QUK17056A5   \n",
       "3              QUK17  /UKT_DIAGNOSTICS/QUK17075AB              QUK17075AB   \n",
       "4              QUK17  /UKT_DIAGNOSTICS/QUK17076AJ              QUK17076AJ   \n",
       "\n",
       "    Exp_Code Exp_Experiment Type Exp_Project  \\\n",
       "0  QUK17E202   Q_NGS_MEASUREMENT       QUK17   \n",
       "1   QUK17E33   Q_NGS_MEASUREMENT       QUK17   \n",
       "2   QUK17E32   Q_NGS_MEASUREMENT       QUK17   \n",
       "3   QUK17E36   Q_NGS_MEASUREMENT       QUK17   \n",
       "4   QUK17E35   Q_NGS_MEASUREMENT       QUK17   \n",
       "\n",
       "                                Exp_Sequencer device  \\\n",
       "0  Illumina HiSeq 2500 at unspecified lab [UNSPEC...   \n",
       "1  Illumina HiSeq 2500 at unspecified lab [UNSPEC...   \n",
       "2  Illumina HiSeq 2500 at unspecified lab [UNSPEC...   \n",
       "3  Illumina HiSeq 2500 at unspecified lab [UNSPEC...   \n",
       "4  Illumina HiSeq 2500 at unspecified lab [UNSPEC...   \n",
       "\n",
       "                       ...                      Biol_sample_Experiment  \\\n",
       "0                      ...                                     QUK17E2   \n",
       "1                      ...                                     QUK17E2   \n",
       "2                      ...                                     QUK17E2   \n",
       "3                      ...                                     QUK17E2   \n",
       "4                      ...                                     QUK17E2   \n",
       "\n",
       "  Biol_sample_Project               Biol_sample_Parents  \\\n",
       "0               QUK17  /UKT_DIAGNOSTICS/QUK17ENTITY-192   \n",
       "1               QUK17   /UKT_DIAGNOSTICS/QUK17ENTITY-13   \n",
       "2               QUK17   /UKT_DIAGNOSTICS/QUK17ENTITY-13   \n",
       "3               QUK17   /UKT_DIAGNOSTICS/QUK17ENTITY-20   \n",
       "4               QUK17   /UKT_DIAGNOSTICS/QUK17ENTITY-20   \n",
       "\n",
       "               Biol_sample_Primary tissue/body fluid Biol_sample_Parents_code  \\\n",
       "0  Unspecified Tumor Tissue [TUMOR_TISSUE_UNSPECI...          QUK17ENTITY-192   \n",
       "1                                        PBMC [PBMC]           QUK17ENTITY-13   \n",
       "2  Unspecified Tumor Tissue [TUMOR_TISSUE_UNSPECI...           QUK17ENTITY-13   \n",
       "3                                        PBMC [PBMC]           QUK17ENTITY-20   \n",
       "4  Unspecified Tumor Tissue [TUMOR_TISSUE_UNSPECI...           QUK17ENTITY-20   \n",
       "\n",
       "            Entity IsTumor  Status     VC_name  \\\n",
       "0  QUK17ENTITY-192       1   Tumor  QUK17013BU   \n",
       "1   QUK17ENTITY-13       0  Normal  QUK17055AV   \n",
       "2   QUK17ENTITY-13       1   Tumor  QUK17056A5   \n",
       "3   QUK17ENTITY-20       0  Normal  QUK17075AB   \n",
       "4   QUK17ENTITY-20       1   Tumor  QUK17076AJ   \n",
       "\n",
       "                                         VCpath  \n",
       "0  QUK17ENTITY-192/QUK17807AQ/Tumor/QUK17013BU/  \n",
       "1  QUK17ENTITY-13/QUK17053AF/Normal/QUK17055AV/  \n",
       "2   QUK17ENTITY-13/QUK17054AN/Tumor/QUK17056A5/  \n",
       "3  QUK17ENTITY-20/QUK17073AT/Normal/QUK17075AB/  \n",
       "4   QUK17ENTITY-20/QUK17074A3/Tumor/QUK17076AJ/  \n",
       "\n",
       "[5 rows x 30 columns]"
      ]
     },
     "execution_count": 103,
     "metadata": {},
     "output_type": "execute_result"
    }
   ],
   "source": [
    "\n",
    "## Annotating if tumor\n",
    "tumor_name = re.compile('[Tt][uU][mM][oO][rR]')\n",
    "Data_df['IsTumor'] = [1 if bool(re.search(tumor_name,row)) else 0 for row in Data_df.loc[:,'Biol_sample_Primary tissue/body fluid']]\n",
    "Data_df['Status'] = ['Tumor' if row==1 else 'Normal' for row in Data_df.loc[:,'IsTumor']]\n",
    "Data_df.head()\n",
    "print 'Added boolean tumor annotation. Rows:', Data_df.shape[0], 'Cols:', Data_df.shape[1]\n",
    "\n",
    "## Annotating VC name\n",
    "Data_df.loc[:,'VC_name'] = Data_df.loc[:,'Test_sample_Code']\n",
    "\n",
    "## Selecting only DNA test samples\n",
    "Data_DNA_df = Data_df[Data_df['Test_sample_Sample type']=='DNA [DNA]']\n",
    "print 'Selected only DNA samples. Rows:', Data_DNA_df.shape[0], 'Cols:', Data_DNA_df.shape[1]\n",
    "\n",
    "## Defining path\n",
    "Data_DNA_df.loc[:,'VCpath'] = [ i+'/'+j+'/'+k+'/'+l+'/' for i,j,k,l in zip(Data_DNA_df.loc[:,'Entity'], Data_DNA_df.loc[:,'Biol_sample_Code'], Data_DNA_df.loc[:,'Status'], Data_DNA_df.loc[:,'Test_sample_Code'])]\n",
    "Data_DNA_df.head()"
   ]
  },
  {
   "cell_type": "markdown",
   "metadata": {},
   "source": [
    "## Creating tree"
   ]
  },
  {
   "cell_type": "code",
   "execution_count": 89,
   "metadata": {},
   "outputs": [],
   "source": [
    "# Creating tree\n",
    "\n",
    "\n",
    "\n",
    "child_status = Data_DNA_df.loc[:,'Status'].tolist()\n",
    "parent_status = Data_DNA_df.loc[:, 'NGS_sample_Code'].tolist()\n",
    "\n",
    "child_NGS = Data_DNA_df.loc[:,'NGS_sample_Code'].tolist()\n",
    "parent_NGS = Data_DNA_df.loc[:,'NGS_sample_Parents_code'].tolist()\n",
    "\n",
    "child_test = Data_DNA_df.loc[:,'Test_sample_Code'].tolist()\n",
    "parent_test = Data_DNA_df.loc[:, 'Test_sample_Parents_code'].tolist()\n",
    "\n",
    "child_biol = Data_DNA_df.loc[:,'Biol_sample_Code'].tolist()\n",
    "parent_biol = Data_DNA_df.loc[:, 'Biol_sample_Parents_code'].tolist()\n",
    "\n",
    "child_entity = Data_DNA_df.loc[:, 'Biol_sample_Parents_code'].tolist()\n",
    "parent_entity = Data_DNA_df.loc[:, 'Biol_sample_Project'].tolist()"
   ]
  },
  {
   "cell_type": "code",
   "execution_count": 90,
   "metadata": {},
   "outputs": [],
   "source": [
    "child = child_status + child_NGS + child_test + child_biol + child_entity\n",
    "parent = parent_status + parent_NGS + parent_test + parent_biol + parent_entity\n",
    "\n",
    "try Data_DNA_df.loc[:,'Test_sample_Secondary name']:\n",
    "    child_sec_name = Data_DNA_df.loc[:,'Test_sample_Secondary name']\n",
    "    parent_sec_name = Data_DNA_df.loc[:,'Status']\n",
    "    child = child_sec_name + child\n",
    "    parent = parent_sec_name + child\n",
    "except(NameError):\n",
    "    pass\n",
    "\n",
    "child_parent = zip(child,parent)"
   ]
  },
  {
   "cell_type": "code",
   "execution_count": 91,
   "metadata": {},
   "outputs": [],
   "source": [
    "dict_tree = {}\n",
    "running_list = []\n",
    "\n",
    "items = {}\n",
    "for (child, parent) in child_parent:\n",
    "    parent_dict = items.setdefault(parent, {})\n",
    "    child_dict = items.setdefault(child, {})\n",
    "    if child not in parent_dict:\n",
    "        parent_dict[child] = child_dict\n",
    "\n",
    "tree_dict = items[subproject]\n"
   ]
  },
  {
   "cell_type": "code",
   "execution_count": 92,
   "metadata": {},
   "outputs": [],
   "source": [
    "def _pretty_tree(d, f, indent=0):\n",
    "    for key, value in d.items():\n",
    "        f.write('\\t' * indent + '└' +str(key)+'\\n')\n",
    "        if isinstance(value, dict):\n",
    "            _pretty_tree(value, f, indent+1)\n",
    "        else:\n",
    "            f.write('\\t' * (indent+1) + str(value)+'\\n')"
   ]
  },
  {
   "cell_type": "code",
   "execution_count": 93,
   "metadata": {},
   "outputs": [],
   "source": [
    "def write_tree(d, filename):\n",
    "    with open (filename,'w') as f:\n",
    "        _pretty_tree(tree_dict,f)"
   ]
  },
  {
   "cell_type": "code",
   "execution_count": 94,
   "metadata": {},
   "outputs": [],
   "source": [
    "write_tree(tree_dict, 'tree.txt')"
   ]
  },
  {
   "cell_type": "markdown",
   "metadata": {},
   "source": [
    "## Generating folders and sorting fastq files into folders"
   ]
  },
  {
   "cell_type": "code",
   "execution_count": 104,
   "metadata": {},
   "outputs": [],
   "source": [
    "for name,path in zip(Data_DNA_df.loc[:,'Test_sample_Code'], Data_DNA_df.loc[:,'VCpath'].tolist()):\n",
    "    subprocess.call(\"mkdir -p %s\" %(path), shell=True, stdout=True)\n",
    "    subprocess.Popen(\"mv '%s'* '%s'\" %(name,path), shell=True, stdout=True)\n",
    "\n"
   ]
  },
  {
   "cell_type": "code",
   "execution_count": 105,
   "metadata": {},
   "outputs": [
    {
     "data": {
      "text/plain": [
       "['',\n",
       " './QUK17ENTITY-111/QUK17545AK/Tumor/QUK17391AB/QUK17391AB_L001.1.fastq.gz',\n",
       " './QUK17ENTITY-111/QUK17545AK/Tumor/QUK17391AB/QUK17391AB_L001.2.fastq.gz',\n",
       " './QUK17ENTITY-111/QUK17545AK/Tumor/QUK17391AB/QUK17391AB_L002.1.fastq.gz',\n",
       " './QUK17ENTITY-111/QUK17545AK/Tumor/QUK17391AB/QUK17391AB_L002.2.fastq.gz',\n",
       " './QUK17ENTITY-112/QUK17529A4/Normal/QUK17392AJ/QUK17392AJ_L001.1.fastq.gz',\n",
       " './QUK17ENTITY-112/QUK17529A4/Normal/QUK17392AJ/QUK17392AJ_L001.2.fastq.gz',\n",
       " './QUK17ENTITY-112/QUK17529A4/Normal/QUK17392AJ/QUK17392AJ_L002.1.fastq.gz',\n",
       " './QUK17ENTITY-112/QUK17529A4/Normal/QUK17392AJ/QUK17392AJ_L002.2.fastq.gz']"
      ]
     },
     "execution_count": 105,
     "metadata": {},
     "output_type": "execute_result"
    }
   ],
   "source": [
    "p = subprocess.Popen(\"find . -name '*.fastq.gz'\", shell=True, stdout=subprocess.PIPE)\n",
    "out, err = p.communicate()\n",
    "fastqfiles = out.split(\"\\n\")\n",
    "fastqfiles = sorted(fastqfiles)\n",
    "fastqfiles"
   ]
  },
  {
   "cell_type": "code",
   "execution_count": 139,
   "metadata": {},
   "outputs": [],
   "source": [
    "fastqfiles = filter(None, sorted(fastqfiles)) # fastest"
   ]
  },
  {
   "cell_type": "code",
   "execution_count": 140,
   "metadata": {},
   "outputs": [
    {
     "data": {
      "text/plain": [
       "['./QUK17ENTITY-111/QUK17545AK/Tumor/QUK17391AB/QUK17391AB_L001.1.fastq.gz',\n",
       " './QUK17ENTITY-111/QUK17545AK/Tumor/QUK17391AB/QUK17391AB_L001.2.fastq.gz',\n",
       " './QUK17ENTITY-111/QUK17545AK/Tumor/QUK17391AB/QUK17391AB_L002.1.fastq.gz',\n",
       " './QUK17ENTITY-111/QUK17545AK/Tumor/QUK17391AB/QUK17391AB_L002.2.fastq.gz',\n",
       " './QUK17ENTITY-112/QUK17529A4/Normal/QUK17392AJ/QUK17392AJ_L001.1.fastq.gz',\n",
       " './QUK17ENTITY-112/QUK17529A4/Normal/QUK17392AJ/QUK17392AJ_L001.2.fastq.gz',\n",
       " './QUK17ENTITY-112/QUK17529A4/Normal/QUK17392AJ/QUK17392AJ_L002.1.fastq.gz',\n",
       " './QUK17ENTITY-112/QUK17529A4/Normal/QUK17392AJ/QUK17392AJ_L002.2.fastq.gz']"
      ]
     },
     "execution_count": 140,
     "metadata": {},
     "output_type": "execute_result"
    }
   ],
   "source": [
    "fastqfiles"
   ]
  },
  {
   "cell_type": "code",
   "execution_count": 141,
   "metadata": {},
   "outputs": [],
   "source": [
    "p_R1 = re.compile('\\.1\\.')\n",
    "p_R2 = re.compile('\\.2\\.')"
   ]
  },
  {
   "cell_type": "code",
   "execution_count": 142,
   "metadata": {},
   "outputs": [],
   "source": [
    "fasta_R1 = [filename if bool(re.search(p_R1,filename)) else '' for filename in fastqfiles]\n",
    "fasta_R2 = [filename if bool(re.search(p_R2,filename)) else '' for filename in fastqfiles]"
   ]
  },
  {
   "cell_type": "code",
   "execution_count": 143,
   "metadata": {},
   "outputs": [],
   "source": [
    "fasta_R1 = filter(None, sorted(fasta_R1))\n",
    "fasta_R2 = filter(None,sorted(fasta_R2))\n",
    "if len(fasta_R1) != len(fasta_R2):\n",
    "    sys.exit(\"The fasta files were not correctly paired\")"
   ]
  },
  {
   "cell_type": "code",
   "execution_count": 144,
   "metadata": {},
   "outputs": [],
   "source": [
    "p_lane = re.compile('_L[0-9]{3}[_\\.]')"
   ]
  },
  {
   "cell_type": "code",
   "execution_count": 145,
   "metadata": {},
   "outputs": [
    {
     "name": "stdout",
     "output_type": "stream",
     "text": [
      "['_L001.', '_L002.', '_L001.', '_L002.'] ['./QUK17ENTITY-111/QUK17545AK/Tumor/QUK17391AB/QUK17391AB_L001.1.fastq.gz', './QUK17ENTITY-111/QUK17545AK/Tumor/QUK17391AB/QUK17391AB_L002.1.fastq.gz', './QUK17ENTITY-112/QUK17529A4/Normal/QUK17392AJ/QUK17392AJ_L001.1.fastq.gz', './QUK17ENTITY-112/QUK17529A4/Normal/QUK17392AJ/QUK17392AJ_L002.1.fastq.gz'] ['./QUK17ENTITY-111/QUK17545AK/Tumor/QUK17391AB/QUK17391AB_L001.2.fastq.gz', './QUK17ENTITY-111/QUK17545AK/Tumor/QUK17391AB/QUK17391AB_L002.2.fastq.gz', './QUK17ENTITY-112/QUK17529A4/Normal/QUK17392AJ/QUK17392AJ_L001.2.fastq.gz', './QUK17ENTITY-112/QUK17529A4/Normal/QUK17392AJ/QUK17392AJ_L002.2.fastq.gz']\n"
     ]
    }
   ],
   "source": [
    "fasta_lanes = [re.search(p_lane, filename).group(0) for filename in fasta_R1]\n",
    "print fasta_lanes, fasta_R1, fasta_R2"
   ]
  },
  {
   "cell_type": "code",
   "execution_count": 146,
   "metadata": {},
   "outputs": [
    {
     "data": {
      "text/html": [
       "<div>\n",
       "<style scoped>\n",
       "    .dataframe tbody tr th:only-of-type {\n",
       "        vertical-align: middle;\n",
       "    }\n",
       "\n",
       "    .dataframe tbody tr th {\n",
       "        vertical-align: top;\n",
       "    }\n",
       "\n",
       "    .dataframe thead th {\n",
       "        text-align: right;\n",
       "    }\n",
       "</style>\n",
       "<table border=\"1\" class=\"dataframe\">\n",
       "  <thead>\n",
       "    <tr style=\"text-align: right;\">\n",
       "      <th></th>\n",
       "      <th>Fasta_R1</th>\n",
       "      <th>Fasta_R2</th>\n",
       "      <th>Lane</th>\n",
       "    </tr>\n",
       "  </thead>\n",
       "  <tbody>\n",
       "    <tr>\n",
       "      <th>0</th>\n",
       "      <td>./QUK17ENTITY-111/QUK17545AK/Tumor/QUK17391AB/...</td>\n",
       "      <td>./QUK17ENTITY-111/QUK17545AK/Tumor/QUK17391AB/...</td>\n",
       "      <td>_L001.</td>\n",
       "    </tr>\n",
       "    <tr>\n",
       "      <th>1</th>\n",
       "      <td>./QUK17ENTITY-111/QUK17545AK/Tumor/QUK17391AB/...</td>\n",
       "      <td>./QUK17ENTITY-111/QUK17545AK/Tumor/QUK17391AB/...</td>\n",
       "      <td>_L002.</td>\n",
       "    </tr>\n",
       "    <tr>\n",
       "      <th>2</th>\n",
       "      <td>./QUK17ENTITY-112/QUK17529A4/Normal/QUK17392AJ...</td>\n",
       "      <td>./QUK17ENTITY-112/QUK17529A4/Normal/QUK17392AJ...</td>\n",
       "      <td>_L001.</td>\n",
       "    </tr>\n",
       "    <tr>\n",
       "      <th>3</th>\n",
       "      <td>./QUK17ENTITY-112/QUK17529A4/Normal/QUK17392AJ...</td>\n",
       "      <td>./QUK17ENTITY-112/QUK17529A4/Normal/QUK17392AJ...</td>\n",
       "      <td>_L002.</td>\n",
       "    </tr>\n",
       "  </tbody>\n",
       "</table>\n",
       "</div>"
      ],
      "text/plain": [
       "                                            Fasta_R1  \\\n",
       "0  ./QUK17ENTITY-111/QUK17545AK/Tumor/QUK17391AB/...   \n",
       "1  ./QUK17ENTITY-111/QUK17545AK/Tumor/QUK17391AB/...   \n",
       "2  ./QUK17ENTITY-112/QUK17529A4/Normal/QUK17392AJ...   \n",
       "3  ./QUK17ENTITY-112/QUK17529A4/Normal/QUK17392AJ...   \n",
       "\n",
       "                                            Fasta_R2    Lane  \n",
       "0  ./QUK17ENTITY-111/QUK17545AK/Tumor/QUK17391AB/...  _L001.  \n",
       "1  ./QUK17ENTITY-111/QUK17545AK/Tumor/QUK17391AB/...  _L002.  \n",
       "2  ./QUK17ENTITY-112/QUK17529A4/Normal/QUK17392AJ...  _L001.  \n",
       "3  ./QUK17ENTITY-112/QUK17529A4/Normal/QUK17392AJ...  _L002.  "
      ]
     },
     "execution_count": 146,
     "metadata": {},
     "output_type": "execute_result"
    }
   ],
   "source": [
    "filenames_df = pd.DataFrame({'Lane':fasta_lanes,'Fasta_R1':fasta_R1,'Fasta_R2':fasta_R2})\n",
    "filenames_df.head()"
   ]
  },
  {
   "cell_type": "code",
   "execution_count": 148,
   "metadata": {},
   "outputs": [
    {
     "name": "stdout",
     "output_type": "stream",
     "text": [
      "[False, False, False, False]\n",
      "[False, False, False, False]\n",
      "[False, False, False, False]\n",
      "[False, False, False, False]\n",
      "[False, False, False, False]\n",
      "[False, False, False, False]\n",
      "[False, False, False, False]\n",
      "[False, False, False, False]\n",
      "[False, False, False, False]\n",
      "[False, False, False, False]\n",
      "[False, False, False, False]\n",
      "[False, False, False, False]\n",
      "[False, False, False, False]\n",
      "[False, False, False, False]\n",
      "[False, False, False, False]\n",
      "[False, False, False, False]\n",
      "[False, False, False, False]\n",
      "[False, False, False, False]\n",
      "[False, False, False, False]\n",
      "[False, False, False, False]\n",
      "[False, False, False, False]\n",
      "[False, False, False, False]\n",
      "[False, False, False, False]\n",
      "[False, False, False, False]\n",
      "[False, False, False, False]\n",
      "[False, False, False, False]\n",
      "[False, False, False, False]\n",
      "[False, False, False, False]\n",
      "[False, False, False, False]\n",
      "[False, False, False, False]\n",
      "[False, False, False, False]\n",
      "[False, False, False, False]\n",
      "[False, False, False, False]\n",
      "[False, False, False, False]\n",
      "[False, False, False, False]\n",
      "[False, False, False, False]\n",
      "[False, False, False, False]\n",
      "[False, False, False, False]\n",
      "[False, False, False, False]\n",
      "[False, False, False, False]\n",
      "[False, False, False, False]\n",
      "[False, False, False, False]\n",
      "[False, False, False, False]\n",
      "[False, False, False, False]\n",
      "[False, False, False, False]\n",
      "[False, False, False, False]\n",
      "[False, False, False, False]\n",
      "[False, False, False, False]\n",
      "[False, False, False, False]\n",
      "[False, False, False, False]\n",
      "[False, False, False, False]\n",
      "[False, False, False, False]\n",
      "[False, False, False, False]\n",
      "[False, False, False, False]\n",
      "[False, False, False, False]\n",
      "[False, False, False, False]\n",
      "[False, False, False, False]\n",
      "[False, False, False, False]\n",
      "[False, False, False, False]\n",
      "[False, False, False, False]\n",
      "[False, False, False, False]\n",
      "[False, False, False, False]\n",
      "[False, False, False, False]\n",
      "[True, True, False, False]\n",
      "[False, False, True, True]\n",
      "[False, False, False, False]\n",
      "[False, False, False, False]\n",
      "[False, False, False, False]\n",
      "[False, False, False, False]\n",
      "[False, False, False, False]\n",
      "[False, False, False, False]\n",
      "[False, False, False, False]\n",
      "[False, False, False, False]\n",
      "[False, False, False, False]\n",
      "[False, False, False, False]\n",
      "[False, False, False, False]\n",
      "[False, False, False, False]\n",
      "[False, False, False, False]\n",
      "[False, False, False, False]\n",
      "[False, False, False, False]\n",
      "[False, False, False, False]\n",
      "[False, False, False, False]\n",
      "[False, False, False, False]\n",
      "[False, False, False, False]\n",
      "[False, False, False, False]\n",
      "[False, False, False, False]\n",
      "[False, False, False, False]\n",
      "[False, False, False, False]\n",
      "[False, False, False, False]\n",
      "[False, False, False, False]\n",
      "[False, False, False, False]\n",
      "[False, False, False, False]\n",
      "[False, False, False, False]\n",
      "[False, False, False, False]\n",
      "[False, False, False, False]\n",
      "[False, False, False, False]\n",
      "[False, False, False, False]\n",
      "[False, False, False, False]\n",
      "[False, False, False, False]\n",
      "[False, False, False, False]\n",
      "[False, False, False, False]\n",
      "[False, False, False, False]\n",
      "[False, False, False, False]\n",
      "[False, False, False, False]\n",
      "[False, False, False, False]\n",
      "[False, False, False, False]\n",
      "[False, False, False, False]\n",
      "[False, False, False, False]\n",
      "[False, False, False, False]\n",
      "[False, False, False, False]\n",
      "[False, False, False, False]\n",
      "[False, False, False, False]\n",
      "[False, False, False, False]\n",
      "[False, False, False, False]\n",
      "[False, False, False, False]\n",
      "[False, False, False, False]\n",
      "[False, False, False, False]\n",
      "[False, False, False, False]\n",
      "[False, False, False, False]\n",
      "[False, False, False, False]\n",
      "[False, False, False, False]\n",
      "[False, False, False, False]\n",
      "[False, False, False, False]\n",
      "[False, False, False, False]\n",
      "[False, False, False, False]\n",
      "[False, False, False, False]\n",
      "[False, False, False, False]\n",
      "[False, False, False, False]\n",
      "[False, False, False, False]\n",
      "[False, False, False, False]\n",
      "['QUK17013BU', 'QUK17055AV', 'QUK17013BU', 'QUK17055AV', 'QUK17056A5', 'QUK17075AB', 'QUK17056A5', 'QUK17075AB']\n"
     ]
    }
   ],
   "source": [
    "test_codes = []\n",
    "for n,path in enumerate(Data_DNA_df['VCpath'].tolist()):\n",
    "    idx = [bool(re.search(path, filename)) for filename in filenames_df['Fasta_R1']]\n",
    "    print idx\n",
    "    test_codes = test_codes + Data_DNA_df.loc[idx,'Test_sample_Code'].tolist()*sum(idx)\n",
    "print test_codes\n",
    "#filenames_df['Codes'] = test_codes"
   ]
  },
  {
   "cell_type": "code",
   "execution_count": 130,
   "metadata": {},
   "outputs": [
    {
     "data": {
      "text/plain": [
       "2"
      ]
     },
     "execution_count": 130,
     "metadata": {},
     "output_type": "execute_result"
    }
   ],
   "source": [
    "Data_DNA_lanes_df = Data_DNA_df.merge(filenames_df, how='right', left_on='Test_sample_Code', right_on='Codes', suffixes=('',''))"
   ]
  },
  {
   "cell_type": "code",
   "execution_count": 131,
   "metadata": {},
   "outputs": [
    {
     "data": {
      "text/plain": [
       "130"
      ]
     },
     "execution_count": 131,
     "metadata": {},
     "output_type": "execute_result"
    }
   ],
   "source": [
    "len(Data_DNA_df.loc[:,'Test_sample_Code'])"
   ]
  },
  {
   "cell_type": "code",
   "execution_count": 133,
   "metadata": {},
   "outputs": [
    {
     "data": {
      "text/plain": [
       "130"
      ]
     },
     "execution_count": 133,
     "metadata": {},
     "output_type": "execute_result"
    }
   ],
   "source": [
    "len(set(Data_DNA_df.loc[:,'Test_sample_Code']))"
   ]
  },
  {
   "cell_type": "code",
   "execution_count": 150,
   "metadata": {},
   "outputs": [],
   "source": [
    "a = pd.DataFrame()"
   ]
  },
  {
   "cell_type": "code",
   "execution_count": null,
   "metadata": {},
   "outputs": [],
   "source": []
  }
 ],
 "metadata": {
  "kernelspec": {
   "display_name": "Python 2",
   "language": "python",
   "name": "python2"
  },
  "language_info": {
   "codemirror_mode": {
    "name": "ipython",
    "version": 2
   },
   "file_extension": ".py",
   "mimetype": "text/x-python",
   "name": "python",
   "nbconvert_exporter": "python",
   "pygments_lexer": "ipython2",
   "version": "2.7.15"
  }
 },
 "nbformat": 4,
 "nbformat_minor": 2
}
